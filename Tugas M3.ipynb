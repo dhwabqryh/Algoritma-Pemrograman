{
 "cells": [
  {
   "cell_type": "markdown",
   "id": "900d2dc9",
   "metadata": {},
   "source": [
    "### Nomor 1"
   ]
  },
  {
   "cell_type": "code",
   "execution_count": 6,
   "id": "c72e6550",
   "metadata": {},
   "outputs": [
    {
     "name": "stdout",
     "output_type": "stream",
     "text": [
      "---PROGRAM KEBALIKAN DARI SUATU STRING---\n",
      "input : Surabaya\n",
      "output :  ayabaruS\n"
     ]
    }
   ],
   "source": [
    "print('---PROGRAM KEBALIKAN DARI SUATU STRING---')\n",
    "\n",
    "x = input('input : ')        #1\n",
    "\n",
    "print('output : ', x[::-1])  #2"
   ]
  },
  {
   "cell_type": "markdown",
   "id": "cea75652",
   "metadata": {},
   "source": [
    "1. pengguna disuruh untuk melakukan input\n",
    "2. dilakukan print dengan menambahkan reverse [::-1] agar mendapatkan output berupa kalimat yang terbalik"
   ]
  },
  {
   "cell_type": "markdown",
   "id": "9dde825e",
   "metadata": {},
   "source": [
    "### Nomor 2"
   ]
  },
  {
   "cell_type": "code",
   "execution_count": 7,
   "id": "13d7f0c7",
   "metadata": {},
   "outputs": [
    {
     "name": "stdout",
     "output_type": "stream",
     "text": [
      "---PROGRAM URUTAN STRING MENJADI TERPISAH---\n",
      "ab\n",
      "bc\n",
      "cd\n",
      "de\n",
      "ef\n",
      "fg\n",
      "gh\n",
      "hi\n"
     ]
    }
   ],
   "source": [
    "print('---PROGRAM URUTAN STRING MENJADI TERPISAH---')\n",
    "\n",
    "a = 'abcdefghi'            #1\n",
    "\n",
    "for x in range(len(a)-1):  #2\n",
    "    print(a[x:x+2])        #3"
   ]
  },
  {
   "cell_type": "markdown",
   "id": "3182a6be",
   "metadata": {},
   "source": [
    "1. string yang diinginkan\n",
    "2. for loop agar terjadinya perulangan, dengan menambahkan len untuk banyak huruf yang akan dihasilkan, ditambah (a)-1, yaitu agar output \"i\" tidak keluar 2x, karena jika keluar 2x maka \"i\" yg terakhir akan sendiri. Jika -1 untuk menghapus output \"i\" yg terakhir\n",
    "3. print menggunakan x:x yaitu agar output dimulai dari \"a\", dan +2 agar outputnya menjadi 2 huruf per kata, jika +1 maka hanya huruf \"a\" yg keluar tidak \"ab\""
   ]
  },
  {
   "cell_type": "markdown",
   "id": "c6e3c087",
   "metadata": {},
   "source": [
    "### Nomor 3"
   ]
  },
  {
   "cell_type": "code",
   "execution_count": 8,
   "id": "fa01b63f",
   "metadata": {},
   "outputs": [
    {
     "name": "stdout",
     "output_type": "stream",
     "text": [
      "---PROGRAM MENGHITUNG BANYAK KATA---\n",
      "kalimat : Nama saya adalah Rita Sugiarto. Saya memiliki hobi menyanyi sejak kecil. Semua berawal dari mimpi ibu saya untuk memiliki putri seorang penyanyi. Saya berlatih vokal seminggu sekali dengan guru saya. Apabila saya menjadi juara satu dalam perlombaan menyanyi tingkat profinsi, ibu saya akan membelikan saya kado yang sangat istimewa.\n",
      "cari kata 1 : Saya\n",
      "cari kata 2 : saya\n",
      "Saya = 2 dan saya = 6\n",
      "total = 8\n"
     ]
    }
   ],
   "source": [
    "print('---PROGRAM MENGHITUNG BANYAK KATA---')\n",
    "\n",
    "a = input('kalimat : ')                              #1\n",
    "b = input('cari kata 1 : ')                          #2\n",
    "c = input('cari kata 2 : ')                          #3\n",
    "print(b,'=',a.count(b), 'dan', c,'=',a.count(c))     #4\n",
    "print('total =', a.count(b) + a.count(c))            #5"
   ]
  },
  {
   "cell_type": "markdown",
   "id": "d2998d9a",
   "metadata": {},
   "source": [
    "1. input kalimat yang akan dilakukan perhitungan kata nya\n",
    "2. input kata ke-1 yang akan dihitung banyaknya\n",
    "3. input kata ke-2 yang akan dihitung banyaknya\n",
    "4. print hasil perhitungan kata ke 1 dan hasil perhitungan kata ke 2 dengan rumus count\n",
    "5. print total banyak kata dari kata ke-1 dan kata ke-2 dengan +"
   ]
  }
 ],
 "metadata": {
  "kernelspec": {
   "display_name": "Python 3 (ipykernel)",
   "language": "python",
   "name": "python3"
  },
  "language_info": {
   "codemirror_mode": {
    "name": "ipython",
    "version": 3
   },
   "file_extension": ".py",
   "mimetype": "text/x-python",
   "name": "python",
   "nbconvert_exporter": "python",
   "pygments_lexer": "ipython3",
   "version": "3.11.0"
  }
 },
 "nbformat": 4,
 "nbformat_minor": 5
}

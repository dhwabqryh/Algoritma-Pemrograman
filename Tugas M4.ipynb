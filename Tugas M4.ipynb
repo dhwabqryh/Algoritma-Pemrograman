{
 "cells": [
  {
   "cell_type": "markdown",
   "id": "5ae42337",
   "metadata": {},
   "source": [
    "#### -----NOMOR 1-----"
   ]
  },
  {
   "cell_type": "code",
   "execution_count": 50,
   "id": "78b4c3cf",
   "metadata": {},
   "outputs": [
    {
     "name": "stdout",
     "output_type": "stream",
     "text": [
      "-----PERCOBAAN 1-----\n",
      "\n",
      "list[2]:  13\n",
      "Data List Setelah di Update:  [3, 6, 13, 10, 17, 19, 45, 100, 120, 150, 23]\n",
      "Data List:  [3, 13, 10, 17, 19, 45, 100, 120, 150, 23]\n",
      "Data List Baru:  [3, 13, 17, 19, 45, 100, 120, 150, 23]\n",
      "Data List Baru:  []\n"
     ]
    }
   ],
   "source": [
    "print('-----PERCOBAAN 1-----')\n",
    "print('')\n",
    "list = [3, 6, 13, 10, 19, 45, 100, 120, 150] \n",
    "print('list[2]: ', list[2]) #Contoh akses nilai list dalam Python                          #1\n",
    "\n",
    "list.append(23) #Contoh update nilai list dalam Python                                     #2\n",
    "list.insert(4, 17)                                                                         #3\n",
    "print('Data List Setelah di Update: ', list) \n",
    "\n",
    "del list[1] #Contoh menghapus nilai list dalam Python                                      #4\n",
    "print('Data List: ', list ) \n",
    "list.remove(10)                                                                            #5\n",
    "print('Data List Baru: ', list) \n",
    "\n",
    "list.clear() #Contoh menghapus semua nilai list dalam Python                               #6\n",
    "print('Data List Baru: ', list)"
   ]
  },
  {
   "cell_type": "markdown",
   "id": "61035af0",
   "metadata": {},
   "source": [
    "1. agar output berupa list yang sudah di tulis di code\n",
    "2. append untuk mengupdate nilai list, atau menambah angka pada list yg sudah ada\n",
    "3. insert sama dengan append, bedanya insert dengan memberi posisi tertentu\n",
    "4. menggunakan del dan menghapus angka salah satu dalam list dengan kurung siku dan menyantumkan posisi angka yg ingin di hapus\n",
    "5. dengan remove, menghapus angka dengan menyebutkan angka yg ingin dihapus, tidak dengan menyebutkan posisi angka berada, tetapi langsung tertuju pada angka yg ingin dihapus\n",
    "6. clear dan list kosong, agar semua list yg sudah ada terhapus menjadi list kosong"
   ]
  },
  {
   "cell_type": "code",
   "execution_count": 52,
   "id": "c7c03f00",
   "metadata": {},
   "outputs": [
    {
     "name": "stdout",
     "output_type": "stream",
     "text": [
      "-----PERCOBAAN 2-----\n",
      "\n",
      "List:  (3, 6, 13, 10, 19, 45, 100, 120, 150)\n",
      "Panjang List:  9\n"
     ]
    }
   ],
   "source": [
    "print('-----PERCOBAAN 2-----')\n",
    "print('')\n",
    "\n",
    "list = (3, 6, 13, 10, 19, 45, 100, 120, 150)\n",
    "list1=len(list)                                       #1\n",
    "print('List: ', list) \n",
    "print('Panjang List: ', list1)"
   ]
  },
  {
   "cell_type": "markdown",
   "id": "93d8d71d",
   "metadata": {},
   "source": [
    "1. len untuk mengukur panjang suatu list yang ada dalam program"
   ]
  },
  {
   "cell_type": "code",
   "execution_count": 2,
   "id": "7467867e",
   "metadata": {},
   "outputs": [
    {
     "name": "stdout",
     "output_type": "stream",
     "text": [
      "-----PERCOBAAN 3-----\n",
      "\n",
      "dict_keys(['Andrian', 'Vancy', 'Dewi'])\n",
      "['Andrian', 'Vancy', 'Dewi']\n",
      "dict_values(['A1', 'A2', 'A3'])\n",
      "dict_items([('Andrian', 'A1'), ('Vancy', 'A2'), ('Dewi', 'A3')])\n",
      "None\n",
      "NO ENTRY\n"
     ]
    }
   ],
   "source": [
    "print('-----PERCOBAAN 3-----')\n",
    "print('')\n",
    "\n",
    "a = {'Andrian':'A1', 'Vancy':'A2', 'Dewi':'A3'}\n",
    "p = a.keys()                                         #1\n",
    "l = list(a.keys())                                   #2\n",
    "v = a.values()                                       #3\n",
    "i = a.items()                                        #4\n",
    "g = a.get('Cahyo')                                   #5\n",
    "g1 = a.get('Fitri','NO ENTRY')                       #6\n",
    "\n",
    "print(p)\n",
    "print(l)\n",
    "print(v)\n",
    "print(i)\n",
    "print(g)\n",
    "print(g1)"
   ]
  },
  {
   "cell_type": "markdown",
   "id": "004b5b6d",
   "metadata": {},
   "source": [
    "1. untuk menghasilkan output berupa key yg terdapat pada dictionary diatas\n",
    "2. untuk menghasilkan list dari hasil output key yg ada pada dictionary\n",
    "3. untuk menghasilkan output berupa value dari data pada dictionary\n",
    "4. item yaitu semua yg ada pada dictionary dijadikan dalam bentuk list yg didalamnya ada string per bagian\n",
    "5. program mencoba mencari nama 'Cahyo', tetapi pada dictionary tidak ada, maka output berupa 'None' atau tidak terdapat kata tersebut pada dictionary\n",
    "6. untuk mencoba mencari 'Fitri', namun jika tidak ditemukan maka akan menghasilkan print NO ENTRY, karena output print (sting) sudah dicantumkan jika tidak terdapat hasil yang ada pada dictionary"
   ]
  },
  {
   "cell_type": "markdown",
   "id": "535c43ea",
   "metadata": {},
   "source": [
    "#### -----NOMOR 2-----"
   ]
  },
  {
   "cell_type": "code",
   "execution_count": 6,
   "id": "ad5d862c",
   "metadata": {},
   "outputs": [
    {
     "name": "stdout",
     "output_type": "stream",
     "text": [
      "Masukkan angka ke-1 : 9\n",
      "Masukkan angka ke-2 : 5\n",
      "Masukkan angka ke-3 : 0\n",
      "Masukkan angka ke-4 : 2\n",
      "Masukkan angka ke-5 : 4\n",
      "Masukkan angka ke-6 : 6\n",
      "Masukkan angka ke-7 : 7\n",
      "Masukkan angka ke-8 : 1\n",
      "list :  [9, 5, 0, 2, 4, 6, 7, 1]\n",
      "\n",
      "-----PROGRAM MENGHITUNG PANJANG LIST-----\n",
      "Panjang List :  8\n",
      "\n",
      "-----PROGRAM MENGURUTKAN DATA KECIL KE BESAR-----\n",
      "Data dari kecil ke besar :  [0, 1, 2, 4, 5, 6, 7, 9]\n",
      "\n",
      "-----PROGRAM MENGURUTKAN DATA BESAR KE KECIL-----\n",
      "Data dari besar ke kecil :  [9, 7, 6, 5, 4, 2, 1, 0]\n",
      "\n",
      "-----PROGRAM MENCARI NILAI MAKSIMUM-----\n",
      "Nikai Maksimum :  9\n",
      "\n",
      "-----PROGRAM MENCARI NILAI MINIMUM-----\n",
      "Nilai Minimum :  0\n"
     ]
    }
   ],
   "source": [
    "list_angka = []                                                                 #1\n",
    "for i in range(x):                                                              #2\n",
    "    data = int(input('Masukkan angka ke-{} : '.format(i+1)))                    #3\n",
    "    list_angka.append(data)                                                     #4\n",
    "\n",
    "print('list : ', list_angka)                                                    #5\n",
    "\n",
    "print('')\n",
    "print('-----PROGRAM MENGHITUNG PANJANG LIST-----')\n",
    "a = len(list_angka)                                                             #6\n",
    "print('Panjang List : ', a)\n",
    "\n",
    "print('')\n",
    "print('-----PROGRAM MENGURUTKAN DATA KECIL KE BESAR-----')\n",
    "list_angka.sort()                                                               #7\n",
    "print('Data dari kecil ke besar : ', list_angka)\n",
    "\n",
    "print('')\n",
    "print('-----PROGRAM MENGURUTKAN DATA BESAR KE KECIL-----')\n",
    "list_angka.reverse()                                                            #8\n",
    "print('Data dari besar ke kecil : ', list_angka)\n",
    "\n",
    "print('')\n",
    "print('-----PROGRAM MENCARI NILAI MAKSIMUM-----')\n",
    "print('Nikai Maksimum : ', max(list_angka))                                     #9\n",
    "\n",
    "print('')\n",
    "print('-----PROGRAM MENCARI NILAI MINIMUM-----')\n",
    "print('Nilai Minimum : ', min(list_angka))                                      #10"
   ]
  },
  {
   "cell_type": "markdown",
   "id": "50fe252e",
   "metadata": {},
   "source": [
    "1. variabel = list kosong, untuk memasukan angka yg diinput menjadi sebuah list\n",
    "2. for loop, agar terjadi perulangan dalam input sampai sebanyak yg program minta\n",
    "3. user menginput angka untuk membuat loop seberapa banyak, format(i+1) = agar memasukan data dimulai dari urutan 1\n",
    "4. append(data), hasil for masuk ke dalam list kosong dilangkah 1\n",
    "5. print list agar angka yg sudah disusun dalam for loop masuk ke dalam string kosong dan menjadi sebuah list\n",
    "6. len untuk menghitung panjang list\n",
    "7. sort agar angka diurutkan dari yg kecil ke besar\n",
    "8. reverse agar angka dr yg besar ke kecil, angka diambil dari print sort lalu di balik dengan reverse\n",
    "9. max untuk menghitung nilai maksimum\n",
    "10. min untuk menghitung nilai minimum"
   ]
  },
  {
   "cell_type": "markdown",
   "id": "f5d93d38",
   "metadata": {},
   "source": [
    "#### -----NOMOR 3-----"
   ]
  },
  {
   "cell_type": "code",
   "execution_count": 49,
   "id": "0d954825",
   "metadata": {},
   "outputs": [
    {
     "name": "stdout",
     "output_type": "stream",
     "text": [
      "-----PROGRAM MENENTUKAN BIL. PRIMA-----\n",
      "Masukkan bil awal : 10\n",
      "Masukkan bil akhir : 20\n",
      "List Angka [10, 11, 12, 13, 14, 15, 16, 17, 18, 19, 20]\n",
      "Bilangan Prima [11, 13, 17, 19]\n"
     ]
    }
   ],
   "source": [
    "print('-----PROGRAM MENENTUKAN BIL. PRIMA-----')\n",
    "a = int(input('Masukkan bil awal : '))                                                             #1\n",
    "b = int(input('Masukkan bil akhir : '))                                                            #2\n",
    "\n",
    "list = [i for i in range(a, b+1)]                                                                  #3\n",
    "\n",
    "bil_prima = []                                                                                     #4\n",
    "for i in list:                                                                                     #5\n",
    "    if (i==2 or i==3 or i==5 or i==7) or (i%2 != 0 and i%3 != 0 and i%5 != 0 and i%7 != 0):        #6\n",
    "        bil_prima.append(i)                                                                        #7\n",
    "\n",
    "print('List Angka', list)\n",
    "print('Bilangan Prima', bil_prima)"
   ]
  },
  {
   "cell_type": "markdown",
   "id": "da65d7f3",
   "metadata": {},
   "source": [
    "1. dilakukan penginputan bilangan awal\n",
    "2. dilakukan penginputan bilangan akhir\n",
    "3. list berupa for agar output berupa angka bilangan awal yg membuat susunan list hingga bilangan akhir, dan b+1 agar output akhir angka 20, jika +2 output sampai 21\n",
    "4. variabel dn string kosong, agar hasil output dr for di langkah 5 masuk ke dalam string kosong dan menjadi list\n",
    "5. for dengan list yg sudah di jabarkan dari list diatas\n",
    "6. dengan rumus bahwa bil prima merupakan angka 2/3/4/5/7 atau habis dibagi 2/3/5/7 dan tidak sama dengan 0\n",
    "7. agar hasil for masuk ke dalam string kosong"
   ]
  },
  {
   "cell_type": "markdown",
   "id": "35994106",
   "metadata": {},
   "source": [
    "#### -----NOMOR 4-----"
   ]
  },
  {
   "cell_type": "code",
   "execution_count": 2,
   "id": "5f4bd503",
   "metadata": {},
   "outputs": [
    {
     "name": "stdout",
     "output_type": "stream",
     "text": [
      "-----PROGRAM MENCARI KATA PADA DICTIONARY-----\n",
      "Masukkan kata: cinta\n",
      "Masukkan sinonim kata : kasih sayang\n",
      "Masukkan kata: deduksi\n",
      "Masukkan sinonim kata : inferensi\n",
      "Masukkan kata: belajar\n",
      "Masukkan sinonim kata : melatih diri\n",
      "Masukkan kata: imajinasi\n",
      "Masukkan sinonim kata : khayalan\n",
      "Masukkan kata: peradaban\n",
      "Masukkan sinonim kata : kultur\n",
      "Masukkan kata: bekerja\n",
      "Masukkan sinonim kata : berproses\n",
      "Masukkan kata: bermain\n",
      "Masukkan sinonim kata : berperan\n",
      "Masukkan kata: hobi\n",
      "Masukkan sinonim kata : kegemaran\n",
      "Masukkan kata: budaya\n",
      "Masukkan sinonim kata : kebiasaan\n",
      "Masukkan kata: ilmu\n",
      "Masukkan sinonim kata : keahlian\n",
      "Masukkan kata yang ingin dicari sinonimnya: belajar\n",
      "Sinonim dari kata belajar adalah: melatih diri\n"
     ]
    }
   ],
   "source": [
    "print('-----PROGRAM MENCARI KATA PADA DICTIONARY-----')\n",
    "dict = {}                                                                         #1\n",
    "\n",
    "for x in range(10):                                                               #2\n",
    "    kata = input(\"Masukkan kata: \")                                               #3\n",
    "    sinonim = input(\"Masukkan sinonim kata : \")                                   #4\n",
    "    sinonim = sinonim.split(\", \")                                                 #5\n",
    "    dict[kata] = sinonim                                                          #6\n",
    "\n",
    "cari_kata = input(\"Masukkan kata yang ingin dicari sinonimnya: \")                 #7\n",
    "\n",
    "if cari_kata in dict:                                                             #8\n",
    "    print(\"Sinonim dari kata\", cari_kata, \"adalah:\", \", \".join(dict[cari_kata]))  #9\n",
    "else:\n",
    "    print(\"Kata\", cari_kata, \"belum ada pada dictionary.\")                        #10"
   ]
  },
  {
   "cell_type": "markdown",
   "id": "a1ef8f26",
   "metadata": {},
   "source": [
    "1. dictionary kosong\n",
    "2. for loop agar terjadi perulangan input kata sebanyak 10 kali\n",
    "3. input kata\n",
    "4. input sinonim dari kata tersebut, dipisahkan dengan koma\n",
    "5. sinonim yg dipisahkan dengan koma diubah menjadi sebuah list\n",
    "6. memasukkan kembali ke dalam dictionary kosong\n",
    "7. input kata yg ingin dicari sinonimnya\n",
    "8. program mencari kata tersebut ke dalam dictionary yg sudah dibuat\n",
    "9. menghasilkan output berupa kata dan sinonim yg didapatkan dari dictionary dengan menggunakan join untuk disatukan\n",
    "10. jika sinonim kata tersebut tidak ditemukan maka akan program akan menghasilkan output berupa string yang berbeda"
   ]
  }
 ],
 "metadata": {
  "kernelspec": {
   "display_name": "Python 3 (ipykernel)",
   "language": "python",
   "name": "python3"
  },
  "language_info": {
   "codemirror_mode": {
    "name": "ipython",
    "version": 3
   },
   "file_extension": ".py",
   "mimetype": "text/x-python",
   "name": "python",
   "nbconvert_exporter": "python",
   "pygments_lexer": "ipython3",
   "version": "3.11.0"
  }
 },
 "nbformat": 4,
 "nbformat_minor": 5
}

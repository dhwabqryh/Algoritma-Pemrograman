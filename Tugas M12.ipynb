{
 "cells": [
  {
   "cell_type": "markdown",
   "id": "f39c6510",
   "metadata": {},
   "source": [
    "### *NOMOR 1*"
   ]
  },
  {
   "cell_type": "code",
   "execution_count": 7,
   "id": "6cee254f",
   "metadata": {},
   "outputs": [
    {
     "name": "stdout",
     "output_type": "stream",
     "text": [
      "1 -> ['2', '3', '4']\n",
      "2 -> []\n",
      "3 -> ['4']\n",
      "4 -> ['5']\n",
      "5 -> ['2', '3']\n"
     ]
    }
   ],
   "source": [
    "graf = {'1':['2','3','4'],                #1\n",
    "        '2' : [],\n",
    "        '3':['4'],\n",
    "        '4':['5'],\n",
    "        '5':['2','3']}\n",
    "\n",
    "for node in graf:\n",
    "    print(node, \"->\", graf[node])"
   ]
  },
  {
   "cell_type": "markdown",
   "id": "57230cb1",
   "metadata": {},
   "source": [
    "*PENJELASAN*\n",
    "1. membuat graf berdasarkan gambar yg terdapat pada soal\n",
    "2. perulangan untuk mengiterasi graf dan dilakukan print untuk menghasilkan output "
   ]
  },
  {
   "cell_type": "markdown",
   "id": "62746c33",
   "metadata": {},
   "source": [
    "### *NOMOR 2*"
   ]
  },
  {
   "cell_type": "code",
   "execution_count": 27,
   "id": "57d89e3a",
   "metadata": {},
   "outputs": [
    {
     "name": "stdout",
     "output_type": "stream",
     "text": [
      "Path saat ini ['1']\n",
      "Node tujuan berikutnya adalah 2 dari node sebelumnya yaitu 1\n",
      "Path saat ini ['1']\n",
      "Node tujuan berikutnya adalah 3 dari node sebelumnya yaitu 1\n",
      "Path saat ini ['1', '3']\n",
      "Node tujuan berikutnya adalah 4 dari node sebelumnya yaitu 3\n",
      "Path saat ini ['1', '3', '4']\n",
      "Node tujuan berikutnya adalah 5 dari node sebelumnya yaitu 4\n",
      "===== Jalur yang ditemukan: ['1', '3', '4', '5']\n",
      "Path saat ini ['1']\n",
      "Node tujuan berikutnya adalah 4 dari node sebelumnya yaitu 1\n",
      "Path saat ini ['1', '4']\n",
      "Node tujuan berikutnya adalah 5 dari node sebelumnya yaitu 4\n",
      "===== Jalur yang ditemukan: ['1', '4', '5']\n"
     ]
    },
    {
     "data": {
      "text/plain": [
       "[['1', '3', '4', '5'], ['1', '4', '5']]"
      ]
     },
     "execution_count": 27,
     "metadata": {},
     "output_type": "execute_result"
    }
   ],
   "source": [
    "graf = {'1':['2','3','4'],                                                                          #1\n",
    "        '2' : [],\n",
    "        '3':['4'],\n",
    "        '4':['5'],\n",
    "        '5':['2','3']}\n",
    "\n",
    "def find_all_path(graf,node_awal,node_akhir,path = []):                                             #2\n",
    "    path = path + [node_awal]\n",
    "    if node_awal == node_akhir:\n",
    "        print('===== Jalur yang ditemukan:', path)\n",
    "        return [path]\n",
    "    if node_awal not in graf:\n",
    "        return[]\n",
    "    paths = []\n",
    "    \n",
    "    for node in graf[node_awal]:                                                                    #3\n",
    "        print('Path saat ini', path)\n",
    "        print('Node tujuan berikutnya adalah %s dari node sebelumnya yaitu %s'% (node, node_awal))\n",
    "        \n",
    "        if node not in path:                                                                        #4\n",
    "            newpaths = find_all_path(graf,node,node_akhir,path)\n",
    "            for newpath in newpaths:\n",
    "                paths.append(newpath)\n",
    "    return paths\n",
    "\n",
    "find_all_path(graf,'1','5')                                                                         #5"
   ]
  },
  {
   "cell_type": "markdown",
   "id": "91d92a17",
   "metadata": {},
   "source": [
    "*PENJELASAN*\n",
    "\n",
    "1. Membuat graf\n",
    "2. Membuat fungsi dengan parameter graf, node_awal, node_akhir, dan path\n",
    "\n",
    "> path diinisiasi sebagai list kosong\n",
    "\n",
    "> lalu jalur disimpan\n",
    "\n",
    "> mengecek apakah node_awal adalah node_akhir, jika iya maka akan dihasilkan output dan return sebagai list path\n",
    "\n",
    "> mengecek apakah node_awal tidak ada pada graf, jika iya maka akan return ke list kosong\n",
    "\n",
    "> list kosong untuk menyimpan semua yang sudah ditemukan\n",
    "\n",
    "3. Mengiterasi semua node dari node_awal dalam graf\n",
    "\n",
    "> menghasilkan output path saat ini dengan memanggil path\n",
    "\n",
    "> menghasilkan output node tujuan berikutnya\n",
    "\n",
    "4. Memeriksa apakah node belum ada dalam path\n",
    "\n",
    "> menyimpan dalam variabel newpaths dari hasil memanggil fungsi dengan parameter graf, node, node_akhir, dan path\n",
    "\n",
    "> loop untuk mengiterasi semua yang baru ditemukan\n",
    "\n",
    "> menambahkan kedalam list paths\n",
    "\n",
    "> setelah iterasi selesai, akan dikembalikan dan berisi hasil dari node_awal ke node_akhir\n",
    "\n",
    "5. Untuk menghasilkan output dari code tersebut dengan memanggil kembali fungsi dari node_awal '1' sampai node_akhir '5'."
   ]
  },
  {
   "cell_type": "markdown",
   "id": "89182620",
   "metadata": {},
   "source": [
    "### *NOMOR 3*"
   ]
  },
  {
   "cell_type": "code",
   "execution_count": 28,
   "id": "79f5dfaf",
   "metadata": {},
   "outputs": [
    {
     "name": "stdout",
     "output_type": "stream",
     "text": [
      "Path saat ini: ['1']\n",
      "Node tujuan berikutnya adalah 2 dari node sebelumnya yaitu 1\n",
      "Path saat ini: ['1']\n",
      "Node tujuan berikutnya adalah 3 dari node sebelumnya yaitu 1\n",
      "Path saat ini: ['1', '3']\n",
      "Node tujuan berikutnya adalah 4 dari node sebelumnya yaitu 3\n",
      "Path saat ini: ['1', '3', '4']\n",
      "Node tujuan berikutnya adalah 5 dari node sebelumnya yaitu 4\n",
      "======Jalur yang ditemukan: ['1', '3', '4', '5']\n",
      "Path saat ini: ['1']\n",
      "Node tujuan berikutnya adalah 4 dari node sebelumnya yaitu 1\n",
      "Path saat ini: ['1', '4']\n",
      "Node tujuan berikutnya adalah 5 dari node sebelumnya yaitu 4\n",
      "======Jalur yang ditemukan: ['1', '4', '5']\n"
     ]
    },
    {
     "data": {
      "text/plain": [
       "['1', '4', '5']"
      ]
     },
     "execution_count": 28,
     "metadata": {},
     "output_type": "execute_result"
    }
   ],
   "source": [
    "graf = {'1':['2','3','4'],                                                                       #1\n",
    "        '2' : [],\n",
    "        '3':['4'],\n",
    "        '4':['5'],\n",
    "        '5':['2','3']}\n",
    "\n",
    "def find_shortest_path(graf,node_awal,node_akhir, path = []):                                    #2\n",
    "    path = path + [node_awal]\n",
    "    if node_awal == node_akhir:\n",
    "        print('======Jalur yang ditemukan:', path)\n",
    "        return path\n",
    "    if node_awal not in graf:\n",
    "        return None\n",
    "    shortest = []\n",
    "    \n",
    "    for node in graf[node_awal]:                                                                 #3\n",
    "        print('Path saat ini:', path)\n",
    "        print('Node tujuan berikutnya adalah', node, 'dari node sebelumnya yaitu', node_awal)\n",
    "        \n",
    "        if node not in path:                                                                     #4\n",
    "            newpaths = find_shortest_path(graf,node,node_akhir,path)\n",
    "            if newpaths:\n",
    "                if not shortest or len(newpaths) < len(shortest):\n",
    "                    shortest = newpaths\n",
    "    return shortest\n",
    "\n",
    "find_shortest_path(graf,'1','5')                                                                 #5"
   ]
  },
  {
   "cell_type": "markdown",
   "id": "89d3d63f",
   "metadata": {},
   "source": [
    "*PENJELASAN*\n",
    "\n",
    "1. Membuat graf\n",
    "2. Membuat fungsi dengan parameter graf, node_awal, node_akhir, dan path yg diinisiasi list kosong\n",
    "\n",
    "> mengecek apakah node_awal adalah node_akhir, jika iya maka akan dihasilkan output dan return sebagai list path\n",
    "\n",
    "> mengecek apakah node_awal tidak ada pada graf, jika iya maka akan return None\n",
    "\n",
    "> jika tidak memenuhi, variabel shortest diinisiasi sebagai list kosong\n",
    "\n",
    "3. Mengiterasi semua node dari node_awal dalam graf\n",
    "\n",
    "> menghasilkan output path saat ini dengan memanggil path\n",
    "\n",
    "> menghasilkan output node tujuan berikutnya\n",
    "\n",
    "4. Memeriksa apakah node belum ada dalam path\n",
    "\n",
    "> jika newpaths ada dan tidak None, maka akan dilakukan pengecekan pada shortest apakah masi kosong atau tidak, jika iya akan diperbarui dengan hasil newpaths\n",
    "\n",
    "> setelah iterasi selesai, akan dikembalikan sebagai hasil dari fungsi\n",
    "\n",
    "5. Untuk menghasilkan output dari code tersebut dengan memanggil kembali fungsi dari node_awal '1' sampai node_akhir '5'."
   ]
  },
  {
   "cell_type": "markdown",
   "id": "37913eb6",
   "metadata": {},
   "source": [
    "### *NOMOR 4*"
   ]
  },
  {
   "cell_type": "code",
   "execution_count": 2,
   "id": "0a17807e",
   "metadata": {},
   "outputs": [
    {
     "name": "stdout",
     "output_type": "stream",
     "text": [
      "1 -> {'2': 2, '3': 3, '4': 4}\n",
      "2 -> {}\n",
      "3 -> {'4': 2}\n",
      "4 -> {'5': 3}\n",
      "5 -> {'2': 0, '3': 1}\n"
     ]
    }
   ],
   "source": [
    "graf = {'1': {'2': 2, '3': 3, '4': 4},      #1\n",
    "        '2' : {},\n",
    "        '3': {'4': 2},\n",
    "        '4': {'5': 3},\n",
    "        '5': {'2': 0, '3': 1}}\n",
    "\n",
    "for node in graf:                           #2\n",
    "    print(node, '->', graf[node])"
   ]
  },
  {
   "cell_type": "markdown",
   "id": "8d0461df",
   "metadata": {},
   "source": [
    "*PENJELASAN*\n",
    "\n",
    "1. Membuat graf dengan memberi jarak setiap edge nya\n",
    "2. Perulangan untuk mengiterasi graf dan dilakukan print untuk menghasilkan output"
   ]
  },
  {
   "cell_type": "markdown",
   "id": "123cc15a",
   "metadata": {},
   "source": [
    "### *NOMOR 5*"
   ]
  },
  {
   "cell_type": "code",
   "execution_count": 29,
   "id": "b53adaca",
   "metadata": {},
   "outputs": [
    {
     "name": "stdout",
     "output_type": "stream",
     "text": [
      "Path saat ini: ['1']\n",
      "Node tujuan berikutnya adalah 2 dari node sebelumnya yaitu 1\n",
      "Path saat ini: ['1']\n",
      "Node tujuan berikutnya adalah 3 dari node sebelumnya yaitu 1\n",
      "Path saat ini: ['1', '3']\n",
      "Node tujuan berikutnya adalah 4 dari node sebelumnya yaitu 3\n",
      "Path saat ini: ['1', '3', '4']\n",
      "Node tujuan berikutnya adalah 5 dari node sebelumnya yaitu 4\n",
      "======Jalur yang ditemukan: ['1', '3', '4', '5']\n",
      "Path saat ini: ['1']\n",
      "Node tujuan berikutnya adalah 4 dari node sebelumnya yaitu 1\n",
      "Path saat ini: ['1', '4']\n",
      "Node tujuan berikutnya adalah 5 dari node sebelumnya yaitu 4\n",
      "======Jalur yang ditemukan: ['1', '4', '5']\n"
     ]
    },
    {
     "data": {
      "text/plain": [
       "['1', '4', '5']"
      ]
     },
     "execution_count": 29,
     "metadata": {},
     "output_type": "execute_result"
    }
   ],
   "source": [
    "graf = {'1': {'2': 2, '3': 3, '4': 4},                                                             #1\n",
    "        '2' : {},\n",
    "        '3': {'4': 2},\n",
    "        '4': {'5': 3},\n",
    "        '5': {'2': 0, '3': 1}}\n",
    "\n",
    "def find_shortest_path(graf,node_awal,node_akhir, path = []):                                      #2\n",
    "    path = path + [node_awal]\n",
    "    if node_awal == node_akhir:\n",
    "        print('======Jalur yang ditemukan:', path)\n",
    "        return path\n",
    "    if node_awal not in graf:\n",
    "        return None\n",
    "    shortest = []\n",
    "    \n",
    "    for node in graf[node_awal]:                                                                   #3\n",
    "        print('Path saat ini:', path)\n",
    "        print('Node tujuan berikutnya adalah', node, 'dari node sebelumnya yaitu', node_awal)\n",
    "        \n",
    "        if node not in path:                                                                       #4\n",
    "            newpaths = find_shortest_path(graph,node,node_akhir,path)\n",
    "            if newpaths:\n",
    "                if not shortest or len(newpaths) < len(shortest):\n",
    "                    shortest = newpaths\n",
    "    return shortest\n",
    "\n",
    "find_shortest_path(graf,'1','5')                                                                   #5"
   ]
  },
  {
   "cell_type": "markdown",
   "id": "639a579a",
   "metadata": {},
   "source": [
    "*PENJELASAN*\n",
    "\n",
    "1. Membuat graf\n",
    "2. Membuat fungsi dengan parameter graf, node_awal, node_akhir, dan path yg diinisiasi list kosong\n",
    "\n",
    "> mengecek apakah node_awal adalah node_akhir, jika iya maka akan dihasilkan output dan return sebagai list path\n",
    "\n",
    "> mengecek apakah node_awal tidak ada pada graf, jika iya maka akan return None\n",
    "\n",
    "> jika tidak memenuhi, variabel shortest diinisiasi sebagai list kosong\n",
    "\n",
    "3. Mengiterasi semua node dari node_awal dalam graf\n",
    "\n",
    "> menghasilkan output path saat ini dengan memanggil path\n",
    "\n",
    "> menghasilkan output node tujuan berikutnya\n",
    "\n",
    "4. Memeriksa apakah node belum ada dalam path\n",
    "\n",
    "> jika newpaths ada dan tidak None, maka akan dilakukan pengecekan pada shortest apakah masi kosong atau tidak, jika iya akan diperbarui dengan hasil newpaths\n",
    "\n",
    "> setelah iterasi selesai, akan dikembalikan sebagai hasil dari fungsi\n",
    "\n",
    "5. Untuk menghasilkan output dari code tersebut dengan memanggil kembali fungsi dari node_awal '1' sampai node_akhir '5'."
   ]
  }
 ],
 "metadata": {
  "kernelspec": {
   "display_name": "Python 3 (ipykernel)",
   "language": "python",
   "name": "python3"
  },
  "language_info": {
   "codemirror_mode": {
    "name": "ipython",
    "version": 3
   },
   "file_extension": ".py",
   "mimetype": "text/x-python",
   "name": "python",
   "nbconvert_exporter": "python",
   "pygments_lexer": "ipython3",
   "version": "3.11.0"
  }
 },
 "nbformat": 4,
 "nbformat_minor": 5
}

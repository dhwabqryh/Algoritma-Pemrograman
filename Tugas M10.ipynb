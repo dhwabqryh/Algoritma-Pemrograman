{
 "cells": [
  {
   "cell_type": "markdown",
   "id": "8313a4db",
   "metadata": {},
   "source": [
    "### *NOMOR 1*"
   ]
  },
  {
   "cell_type": "code",
   "execution_count": 2,
   "id": "5c3df8d0",
   "metadata": {},
   "outputs": [],
   "source": [
    "def bubblesort(var):                                                           #1\n",
    "    \n",
    "    iterasi = 0                                                                #2\n",
    "    \n",
    "    while iterasi < (len(var) - 1):                                            #3\n",
    "        cursor = 0                                                             #4\n",
    "        while cursor < (len(var) - 1):                                         #5\n",
    "            \n",
    "            if var[cursor] > var[cursor + 1]:                                  #6\n",
    "                var[cursor], var[cursor + 1] = var[cursor + 1], var[cursor]    #7\n",
    "            cursor = cursor + 1                                                #8\n",
    "        iterasi = iterasi + 1                                                  #9\n",
    "    return var                                                                 #10"
   ]
  },
  {
   "cell_type": "code",
   "execution_count": 13,
   "id": "bd7ab8f0",
   "metadata": {},
   "outputs": [
    {
     "data": {
      "text/plain": [
       "[1, 4, 6, 9, 23]"
      ]
     },
     "execution_count": 13,
     "metadata": {},
     "output_type": "execute_result"
    }
   ],
   "source": [
    "var = [1, 6, 4, 9, 23]\n",
    "bubblesort(var)"
   ]
  },
  {
   "cell_type": "markdown",
   "id": "f8c95250",
   "metadata": {},
   "source": [
    "**penjelasan**\n",
    "1. def fungsi yg dilakukan untuk pengurutan angka dalam list var dari angka kecil ke besar\n",
    "2. iterasi = 0\n",
    "3. dilakukan looping jika iterasi kurang dari panjang var dikurang 1, untuk membandingkan setiap elemen var\n",
    "4. cursor = 0\n",
    "5. dilakukan looping selama cursor kurang dari panjang var dikurangi 1, agar dapat membandingkan setiap elemen var\n",
    "6. setiap elemen var dibandingkan dengan elemen berikutnya, jika elemen sekarang lebih besar dari elemen berikutnya\n",
    "7. maka kedua elemen akan ditukar\n",
    "8. setiap cursor ditambah menjadi 1 pada setiap looping\n",
    "9. setiap iterasi ditambah menjadi 1 setiap looping\n",
    "10. mengembalikan ke nilai var\n",
    "\n",
    "Konsep ini sudah sesuai dan dapat digunakan pada setiap list. Namun, jika untuk list besar akan tidak efisien dan disarankan menggunakan quicksort atau mergesort"
   ]
  },
  {
   "cell_type": "code",
   "execution_count": 4,
   "id": "b3fff569",
   "metadata": {},
   "outputs": [],
   "source": [
    "def selectionsort(var):                                      #1\n",
    "    for i in range(len(var)):                                #2\n",
    "        min_idx = i                                          #3\n",
    "        for j in range(i + 1, len(var)):                     #4\n",
    "            if var[min_idx] > var[j]:                        #5\n",
    "                min_idx = j                                  #6\n",
    "        var[i], var[min_idx] = var[min_idx], var[i]          #7\n",
    "    return var                                               #8"
   ]
  },
  {
   "cell_type": "code",
   "execution_count": 14,
   "id": "49098c6a",
   "metadata": {},
   "outputs": [
    {
     "data": {
      "text/plain": [
       "[2, 3, 7, 10, 13]"
      ]
     },
     "execution_count": 14,
     "metadata": {},
     "output_type": "execute_result"
    }
   ],
   "source": [
    "var = [2, 7, 3, 13, 10]\n",
    "selectionsort(var)"
   ]
  },
  {
   "cell_type": "markdown",
   "id": "6dc5b118",
   "metadata": {},
   "source": [
    "**Penjelasan**\n",
    "1. membuat fungsi\n",
    "2. dilakukan looping sepanjang elemen var yg memiliki i sebagai index\n",
    "3. setiap iterasi dibandingkan elemen var\n",
    "4. dilakukan looping kembalu sepanjang elemen var dengan index i ditambah 1\n",
    "5. jika elemen sekarang lebih besar dari elemen berikutnya\n",
    "6. maka akan tersimpan pada variabel min_idx, dan akan berisi index dari elemen terkecil\n",
    "7. elemen akan ditukar pada index ke i dengan elemen pada index ke min_idx, sehingga elemen terkecil akan ada di awal list dan berurutan secara ascending\n",
    "8. mengembalikan ke nilai var\n",
    "\n",
    "Konsep ini sudah sesuai konsep dan dapat digunakan pada setiap list. Namun, jika untuk list besar akan tidak efisien dan disarankan menggunakan quicksort atau mergesort"
   ]
  },
  {
   "cell_type": "code",
   "execution_count": 6,
   "id": "fd131218",
   "metadata": {},
   "outputs": [
    {
     "name": "stdout",
     "output_type": "stream",
     "text": [
      "Masukkan nilai yang dicari: 5\n",
      "Nilai:  5 berhasil ditemukan di index ke  1\n"
     ]
    }
   ],
   "source": [
    "a = ['2', '5', '1', '10', '6']\n",
    "\n",
    "cari = input('Masukkan nilai yang dicari: ')                               #1\n",
    "ketemu = False                                                             #2\n",
    "for i in range(0, len(a)):                                                 #3\n",
    "    if cari == a[i]:                                                       #4\n",
    "        ketemu = True                                                      #5\n",
    "        idx = i                                                            #6\n",
    "        break                                                              #7\n",
    "        \n",
    "if ketemu:                                                                 #8\n",
    "    print ('Nilai: ', cari, 'berhasil ditemukan di index ke ', idx)\n",
    "else:                                                                      #9\n",
    "    print ('Nilai: ', cari, 'tidak ditemukan')"
   ]
  },
  {
   "cell_type": "markdown",
   "id": "abaf8550",
   "metadata": {},
   "source": [
    "**Penjelasan**\n",
    "1. user diminta input \n",
    "2. variabel ketemu berupa False, untuk mendeteksi nilai ditemukan atau tidak\n",
    "3. dilakukan looping dari index 0 sampai panjang list a\n",
    "4. jika input user terdapat pada list a\n",
    "5. maka variabel ketemu menjadi True\n",
    "6. dan index nya akan tersimpan pada variabel idx\n",
    "7. break untuk memberhentikan looping\n",
    "9. jika variabel ketemu berupa True, maka akan menghasilkan output yg menjelaskan keberadaan posisi dimana input user berada pada list\n",
    "10. tetapi jika variabel ketemu tidak ditemukan atau berupa False, maka output akan memberikan pesan bahwa input user tidak ditemukan\n",
    "\n",
    "Konsep ini sudah sesuai dan dapat digunakan pada sebuah list. Namun, jika untuk list besar akan tidak efisien dan disarankan menggunakan binary search"
   ]
  },
  {
   "cell_type": "code",
   "execution_count": 27,
   "id": "f077a48d",
   "metadata": {},
   "outputs": [],
   "source": [
    "def binary_search(arr, x):                               #1\n",
    "    low = 0                                              #2\n",
    "    high = len(arr)-1                                    #3\n",
    "    mid = 0                                              #4\n",
    "    \n",
    "    while low <= high:                                   #5\n",
    "        mid = (high + low) // 2                          #6\n",
    "        if arr[mid] < x:                                 #7\n",
    "            low = mid + 1                                #8\n",
    "        elif arr[mid] > x:                               #9\n",
    "            high = mid - 1                               #10\n",
    "        else:                                            #11\n",
    "            return mid\n",
    "    return 'TIDAK DITEMUKAN'                             #12"
   ]
  },
  {
   "cell_type": "markdown",
   "id": "41565dc6",
   "metadata": {},
   "source": [
    "**Penjelasan**\n",
    "1. membuat fungsi\n",
    "2. low berupa index terendah\n",
    "3. high berupa index terendah dan tertinggi pada list arr\n",
    "4. mid berupa index tengah\n",
    "5. dilakukan looping selama nilai low masi lebih kecil dari pada nilai high\n",
    "6. mencari nilai mid dengan cara high ditambah low dan dibagi oleh 2\n",
    "7. jika elemen pada mid lebih kecil dari nilai x\n",
    "8. maka nilai low berupa nilai mid dikurang 1\n",
    "9. tetapi jika elemen pada mid lebih besar dari nilai x\n",
    "10. maka nilai high berupa nilai mid dikurang 1\n",
    "11. jika nilai x sama dengan nilai mid, maka sudah ditemukan nilai mid nya\n",
    "12. jika nilai x tidak ditemukan pada list maka akan menghasilkan output TIDAK DITEMUKAN\n",
    "\n",
    "Konsep ini sudah sesuai dan dapat digunakan untuk mencari nilai pada sebuah list"
   ]
  },
  {
   "cell_type": "markdown",
   "id": "a1452898",
   "metadata": {},
   "source": [
    "### *NOMOR 2*"
   ]
  },
  {
   "cell_type": "code",
   "execution_count": 16,
   "id": "894ce3c4",
   "metadata": {},
   "outputs": [],
   "source": [
    "def bubblesort_desc(var):\n",
    "    iterasi = 0\n",
    "    while iterasi < (len(var)-1):\n",
    "        cursor = 0\n",
    "        while cursor < (len(var)-1):\n",
    "            if var[cursor] < var[cursor + 1]:                                # diganti menjadi < yg sebelumnya >\n",
    "                var[cursor], var[cursor + 1] = var[cursor + 1], var[cursor]\n",
    "            cursor = cursor + 1\n",
    "        iterasi = iterasi + 1\n",
    "    return var"
   ]
  },
  {
   "cell_type": "code",
   "execution_count": 17,
   "id": "c35d8f60",
   "metadata": {},
   "outputs": [
    {
     "data": {
      "text/plain": [
       "[9, 8, 4, 3, 1]"
      ]
     },
     "execution_count": 17,
     "metadata": {},
     "output_type": "execute_result"
    }
   ],
   "source": [
    "var = [3, 8, 9, 4, 1]\n",
    "bubblesort_desc(var)"
   ]
  },
  {
   "cell_type": "code",
   "execution_count": 21,
   "id": "247e770d",
   "metadata": {},
   "outputs": [],
   "source": [
    "def selectionsort_desc(var):\n",
    "    for i in range (len(var)):\n",
    "        max_idx = i\n",
    "        for j in range(i + 1, len(var)):\n",
    "            if var[max_idx] < var[j]:                  # diganti menjadi < yg sebelumnya >\n",
    "                max_idx = j\n",
    "                \n",
    "        var[i], var[max_idx] = var[max_idx], var[i]\n",
    "    return var"
   ]
  },
  {
   "cell_type": "code",
   "execution_count": 23,
   "id": "a8c6bdce",
   "metadata": {},
   "outputs": [
    {
     "data": {
      "text/plain": [
       "[9, 7, 2, 1, 0]"
      ]
     },
     "execution_count": 23,
     "metadata": {},
     "output_type": "execute_result"
    }
   ],
   "source": [
    "var = [7, 2, 1, 9, 0]\n",
    "selectionsort_desc(var)"
   ]
  },
  {
   "cell_type": "markdown",
   "id": "f32e7043",
   "metadata": {},
   "source": [
    "**Penjelasan**\n",
    "\n",
    "Pada dua sort diatas hanya diubah menjadi < yg sebelumnya >, karena untuk membuat descending, output yg dihasilkan menjadi urutan angka yang terbesar menjadi terkecil. Karena sebelumnya berupa ascending dan hanya diubah menjadi descending maka hanya tanda > yg diubah menjadi <"
   ]
  },
  {
   "cell_type": "markdown",
   "id": "42a1b556",
   "metadata": {},
   "source": [
    "### *NOMOR 3*"
   ]
  },
  {
   "cell_type": "code",
   "execution_count": 29,
   "id": "5238bdf6",
   "metadata": {},
   "outputs": [
    {
     "name": "stdout",
     "output_type": "stream",
     "text": [
      "Masukkan nilai yang ingin dicari :30\n",
      "Nilai 30 ditemukan pada index 2\n"
     ]
    }
   ],
   "source": [
    "arr = [10, 20, 30, 40, 50, 60]                              #1\n",
    "x = int(input('Masukkan nilai yang ingin dicari :'))        #2\n",
    "\n",
    "def binary_search(arr, x):\n",
    "    low = 0\n",
    "    high = len(arr)-1\n",
    "    mid = 0\n",
    "    \n",
    "    while low <= high:\n",
    "        mid = (high + low) // 2\n",
    "        if arr[mid] < x:\n",
    "            low = mid + 1\n",
    "        elif arr[mid] > x:\n",
    "            high = mid - 1\n",
    "        else:\n",
    "            print(f'Nilai {x} ditemukan pada index {mid}')   #3\n",
    "            return\n",
    "    return 'TIDAK DITEMUKAN'\n",
    "\n",
    "binary_search(arr, x)                                        #4"
   ]
  },
  {
   "cell_type": "markdown",
   "id": "e4a626d3",
   "metadata": {},
   "source": [
    "**Penjelasan**\n",
    "1. Ditambahkan list arr\n",
    "2. x berupa input user mencari nilai pada list\n",
    "3. jika sudah dilakukan looping maka akan menghasilkan output nilai yg dicari user terdapat di index keberapa\n",
    "4. untuk menghasilkan output dr program yg sudah berjalan pada fungsi"
   ]
  },
  {
   "cell_type": "markdown",
   "id": "0f2785d6",
   "metadata": {},
   "source": [
    "### *NOMOR 4*"
   ]
  },
  {
   "cell_type": "code",
   "execution_count": 32,
   "id": "6e9d6b3a",
   "metadata": {},
   "outputs": [
    {
     "name": "stdout",
     "output_type": "stream",
     "text": [
      "sebelum sorting :  ['is', 'for', 'the', 'use', 'of', 'anyone', 'anywhere', 'in', 'the', 'United', 'States']\n",
      "sesudah sorting :  ['States', 'United', 'anyone', 'anywhere', 'for', 'in', 'is', 'of', 'the', 'the', 'use']\n"
     ]
    }
   ],
   "source": [
    "with open('C:/Users/dhiwa/OneDrive/Dokumen/Sems. 2/Alpro/Teks Mobydick.txt', encoding='utf-8') as file:\n",
    "    text = file.read()\n",
    "    start = 15\n",
    "    end = 25\n",
    "    kata = text.split()[start-1:end]\n",
    "\n",
    "def selectionsort(kata):\n",
    "    for i in range(len(kata)):\n",
    "        min_idx = i\n",
    "        for j in range(i + 1, len(kata)):\n",
    "            if kata[min_idx] > kata[j]:\n",
    "                min_idx = j\n",
    "        kata[i], kata[min_idx] = kata[min_idx], kata[i]\n",
    "    return kata  \n",
    "\n",
    "print('sebelum sorting : ', kata)\n",
    "print('sesudah sorting : ', selectionsort(kata))"
   ]
  },
  {
   "cell_type": "markdown",
   "id": "8422cbcf",
   "metadata": {},
   "source": [
    "**Penjelasan**\n",
    "\n",
    "Perubahan yg terjadi yaitu dimasukkan sebuah file pada code dengan membuka txt dari file dan txt yg dipilih akan dilakukan split per kata agar mudah dilakukan sorting pada fungsi selectionsort. Kata yg sudah di sorting akan terurut dari huruf kapital dan alfabet paling awal"
   ]
  },
  {
   "cell_type": "markdown",
   "id": "ebb4a7ea",
   "metadata": {},
   "source": [
    "### *NOMOR 5*"
   ]
  },
  {
   "cell_type": "code",
   "execution_count": 47,
   "id": "12e2831a",
   "metadata": {},
   "outputs": [
    {
     "name": "stdout",
     "output_type": "stream",
     "text": [
      "sebelum sorting :  ['of', 'the', 'world', 'at', 'no', 'cost', 'and', 'with', 'almost', 'no', 'restrictions']\n",
      "sesudah sorting :  ['almost', 'and', 'at', 'cost', 'no', 'no', 'of', 'restrictions', 'the', 'with', 'world']\n"
     ]
    }
   ],
   "source": [
    "def sort():                                                                                                   #1\n",
    "    with open('C:/Users/dhiwa/OneDrive/Dokumen/Sems. 2/Alpro/Teks Mobydick.txt', encoding='utf-8') as file:   #2\n",
    "        text = file.read()                                                                                    #3\n",
    "        start = 30                                                                                            #4\n",
    "        end = 40                                                                                              #5\n",
    "        kata = text.split()[start-1:end]                                                                      #6\n",
    "        print('sebelum sorting : ', kata)                                                                     #7\n",
    "        sorting = sorted(kata)                                                                                #8\n",
    "        return sorting                                                                                        #9\n",
    "\n",
    "print('sesudah sorting : ', sort())                                                                           #10"
   ]
  },
  {
   "cell_type": "markdown",
   "id": "3af58694",
   "metadata": {},
   "source": [
    "**Penjelasan**\n",
    "\n",
    "1. membuat fungsi\n",
    "2. membuka file txt\n",
    "3. membaca file\n",
    "4. rentang dimulai baris untuk diambil kata2nya\n",
    "5. rentang akhir baris\n",
    "6. variabel kata berupa file txt yg suda di split\n",
    "7. output kata yg sudah di split namun belum di sorting\n",
    "8. kata yg sudah di split dilakukan sorting oleh program\n",
    "9. mengembalikan ke sorting untuk fungsi sort()\n",
    "10. output berupa kata dari file yg sudah di sorting"
   ]
  }
 ],
 "metadata": {
  "kernelspec": {
   "display_name": "Python 3 (ipykernel)",
   "language": "python",
   "name": "python3"
  },
  "language_info": {
   "codemirror_mode": {
    "name": "ipython",
    "version": 3
   },
   "file_extension": ".py",
   "mimetype": "text/x-python",
   "name": "python",
   "nbconvert_exporter": "python",
   "pygments_lexer": "ipython3",
   "version": "3.11.0"
  }
 },
 "nbformat": 4,
 "nbformat_minor": 5
}

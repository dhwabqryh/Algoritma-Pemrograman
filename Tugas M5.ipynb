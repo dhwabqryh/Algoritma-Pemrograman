{
 "cells": [
  {
   "cell_type": "markdown",
   "id": "14086672",
   "metadata": {},
   "source": [
    "#### NOMOR 1"
   ]
  },
  {
   "cell_type": "markdown",
   "id": "107f1078",
   "metadata": {},
   "source": [
    "###### percobaan 1"
   ]
  },
  {
   "cell_type": "code",
   "execution_count": 10,
   "id": "b03e4d95",
   "metadata": {},
   "outputs": [
    {
     "name": "stdout",
     "output_type": "stream",
     "text": [
      "b lebih besar dari a\n"
     ]
    }
   ],
   "source": [
    "a = 75\n",
    "b = 200\n",
    "if b > a:\n",
    " print (\"b lebih besar dari a\")"
   ]
  },
  {
   "cell_type": "markdown",
   "id": "d1fb0738",
   "metadata": {},
   "source": [
    "jika integer b lebih besar dari a, maka output berupa b lebih besar dari a"
   ]
  },
  {
   "cell_type": "code",
   "execution_count": 2,
   "id": "233d55dd",
   "metadata": {},
   "outputs": [
    {
     "name": "stdout",
     "output_type": "stream",
     "text": [
      "b lebih besar dari a\n"
     ]
    }
   ],
   "source": [
    "if b > a: print (\"b lebih besar dari a\")"
   ]
  },
  {
   "cell_type": "markdown",
   "id": "055464e5",
   "metadata": {},
   "source": [
    "cara lain yaitu dengan langsung menaruh if dan print di dalam satu baris yang sama"
   ]
  },
  {
   "cell_type": "markdown",
   "id": "474d7d9d",
   "metadata": {},
   "source": [
    "###### percobaan 2"
   ]
  },
  {
   "cell_type": "code",
   "execution_count": 3,
   "id": "d13a726c",
   "metadata": {},
   "outputs": [
    {
     "name": "stdout",
     "output_type": "stream",
     "text": [
      "Pernyataan a > b and c > a benar\n"
     ]
    }
   ],
   "source": [
    "a = 200\n",
    "b = 100\n",
    "c = 300\n",
    "if a > b and c > a:\n",
    " print (\"Pernyataan a > b and c > a benar\")\n",
    "else:\n",
    " print (\"Pernyataan a > b and c > a salah\")"
   ]
  },
  {
   "cell_type": "markdown",
   "id": "0347b77a",
   "metadata": {},
   "source": [
    "jika integer dari a lebih besar dari b dan c lebih besar dari a, maka output berupa pernyataan benar. Tetapi jika integer tidak sesuai dengan perintah program, maka akan menghasilkan output pernyataan salah"
   ]
  },
  {
   "cell_type": "markdown",
   "id": "62757dfb",
   "metadata": {},
   "source": [
    "###### percobaan 3"
   ]
  },
  {
   "cell_type": "code",
   "execution_count": 4,
   "id": "bd72e8c9",
   "metadata": {},
   "outputs": [
    {
     "name": "stdout",
     "output_type": "stream",
     "text": [
      "Bilangan positif\n"
     ]
    }
   ],
   "source": [
    "num = 3.4\n",
    "if num > 0:                     #1\n",
    " print (\"Bilangan positif\")\n",
    "elif num == 0:                  #2\n",
    " print(\"Nol\")\n",
    "else:\n",
    " print (\"Bilangan negatif\")     #3"
   ]
  },
  {
   "cell_type": "markdown",
   "id": "f9cff49a",
   "metadata": {},
   "source": [
    "1. jika num lebih besar dari pada 0, maka akan menghasilkan output bilangan positif\n",
    "2. tetapi jika num sama dengan 0, maka akan menghasilkan output nol\n",
    "3. jika num tidak lebih besar dari pada nol atau tidak sama dengan 0, maka output berupa bilangan negatif"
   ]
  },
  {
   "cell_type": "markdown",
   "id": "6cc8582a",
   "metadata": {},
   "source": [
    "#### NOMOR 2"
   ]
  },
  {
   "cell_type": "code",
   "execution_count": 5,
   "id": "f44a58b8",
   "metadata": {},
   "outputs": [
    {
     "name": "stdout",
     "output_type": "stream",
     "text": [
      "=====PROGRAM MENGHITUNG BIAYA KIRIM=====\n",
      "Masukkan jarak (km) : 15\n",
      "Biaya kirim: 90000\n"
     ]
    }
   ],
   "source": [
    "print('=====PROGRAM MENGHITUNG BIAYA KIRIM=====')\n",
    "\n",
    "km = int(input(\"Masukkan jarak (km) : \"))       #1\n",
    "\n",
    "if km < 5:                                      #2\n",
    "    biaya = 0\n",
    "elif km >= 5 and km <= 10:                      #3\n",
    "    biaya = km * 5000\n",
    "elif km >= 10 and km <= 20:                     #4\n",
    "    biaya = km * 6000\n",
    "else: \n",
    "    biaya = km * 7000                           #5\n",
    "\n",
    "print(\"Biaya kirim:\", biaya)                    #6"
   ]
  },
  {
   "cell_type": "markdown",
   "id": "5131fbfe",
   "metadata": {},
   "source": [
    "1. user diminta untuk melakukan input jarak yang ingin dihitung dalam bentuk integer\n",
    "2. jika jarak kurang dari 5 km, biaya kirim akan 0 atau gratis\n",
    "3. jika jarak 5 - 10 km, biaya kirim dikalikan dengan 5000\n",
    "4. jika jarak 10 - 20 km, biaya kirim dikalikan dengan 6000\n",
    "5. jika jarak lebih dari 20 km, biaya kirim dikalikan dengan 7000\n",
    "6. output berupa string dengan hasil perhitungan biaya kirim yang sudah dihitung"
   ]
  }
 ],
 "metadata": {
  "kernelspec": {
   "display_name": "Python 3 (ipykernel)",
   "language": "python",
   "name": "python3"
  },
  "language_info": {
   "codemirror_mode": {
    "name": "ipython",
    "version": 3
   },
   "file_extension": ".py",
   "mimetype": "text/x-python",
   "name": "python",
   "nbconvert_exporter": "python",
   "pygments_lexer": "ipython3",
   "version": "3.11.0"
  }
 },
 "nbformat": 4,
 "nbformat_minor": 5
}

{
 "cells": [
  {
   "cell_type": "markdown",
   "id": "277513eb",
   "metadata": {},
   "source": [
    "### NOMOR 1"
   ]
  },
  {
   "cell_type": "code",
   "execution_count": 2,
   "id": "e8b653e8",
   "metadata": {},
   "outputs": [
    {
     "name": "stdout",
     "output_type": "stream",
     "text": [
      "-----Perulangan while dengan menggunakan break statement-----\n",
      "1\n",
      "2\n",
      "3\n"
     ]
    }
   ],
   "source": [
    "print('-----Perulangan while dengan menggunakan break statement-----')\n",
    "\n",
    "i = 1             #1\n",
    "while i < 6:      #2\n",
    "    print(i)      \n",
    "    if i == 3:    #3\n",
    "        break  \n",
    "    i += 1     "
   ]
  },
  {
   "cell_type": "markdown",
   "id": "aedfca23",
   "metadata": {},
   "source": [
    "1. program mengisi integer pada variabel\n",
    "2. jika i kurang dari 6, maka akan menghasilkan output integer pada i\n",
    "3. jika i sama dengan 3, maka akan di break dan menghasilkan output i ditambah 1"
   ]
  },
  {
   "cell_type": "code",
   "execution_count": 3,
   "id": "2aca0d05",
   "metadata": {},
   "outputs": [
    {
     "name": "stdout",
     "output_type": "stream",
     "text": [
      "-----Perulangan while dengan menggunakan continue statement-----\n",
      "1\n",
      "2\n",
      "4\n",
      "5\n",
      "6\n"
     ]
    }
   ],
   "source": [
    "print('-----Perulangan while dengan menggunakan continue statement-----')\n",
    "\n",
    "i = 0              #1\n",
    "while i < 6:       #2\n",
    "    i += 1\n",
    "    if i == 3:     #3\n",
    "        continue\n",
    "    print(i)"
   ]
  },
  {
   "cell_type": "markdown",
   "id": "5b361c81",
   "metadata": {},
   "source": [
    "1. variabel terisi pada program\n",
    "2. jika i kurang dari 6, maka i akan ditambah 1\n",
    "3. jika i sama dengan 3 maka akan continue dan output berupa i"
   ]
  },
  {
   "cell_type": "code",
   "execution_count": 5,
   "id": "05d457fc",
   "metadata": {},
   "outputs": [
    {
     "name": "stdout",
     "output_type": "stream",
     "text": [
      "-----Perulangan for dengan menggunakan break statement-----\n",
      "aku\n",
      "kamu\n"
     ]
    }
   ],
   "source": [
    "print('-----Perulangan for dengan menggunakan break statement-----')\n",
    "\n",
    "orang = [\"aku\", \"kamu\", \"dia\"]    #1\n",
    "for x in orang:                   #2\n",
    "    print(x)\n",
    "    if x == \"kamu\":               #3\n",
    "        break"
   ]
  },
  {
   "cell_type": "markdown",
   "id": "96021c10",
   "metadata": {},
   "source": [
    "1. list dari program\n",
    "2. x merupakan isi dari sebuah list, dan akan menghasilkan output x\n",
    "3. jika x adalah kamu, maka akan menghasilkan output kamu"
   ]
  },
  {
   "cell_type": "code",
   "execution_count": 5,
   "id": "c5de845e",
   "metadata": {},
   "outputs": [
    {
     "name": "stdout",
     "output_type": "stream",
     "text": [
      "-----Perulangan for dengan menggunakan continue statement-----\n",
      "ani\n",
      "angel\n",
      "lelga\n",
      "prasetyo\n"
     ]
    }
   ],
   "source": [
    "print('-----Perulangan for dengan menggunakan continue statement-----')\n",
    "\n",
    "nama = [\"ani\", \"angel\", \"lelga\", \"viki\", \"prasetyo\"]   #1\n",
    "for x in nama:                                         #2\n",
    "    if x == \"viki\":                                    #3\n",
    "        continue\n",
    "    print(x)"
   ]
  },
  {
   "cell_type": "markdown",
   "id": "565e72a6",
   "metadata": {},
   "source": [
    "1. nama berupa list\n",
    "2. x merupakan isi list nama\n",
    "3. jika x adalah viki, maka akan menghasilkan output semua isi list, kecuali viki"
   ]
  },
  {
   "cell_type": "code",
   "execution_count": 8,
   "id": "cad0e02b",
   "metadata": {},
   "outputs": [
    {
     "name": "stdout",
     "output_type": "stream",
     "text": [
      "-----Perulangan for dengan menggunakan range statement-----\n",
      "0\n",
      "1\n",
      "2\n",
      "3\n",
      "4\n",
      "5\n",
      "2\n",
      "3\n",
      "4\n",
      "5\n"
     ]
    }
   ],
   "source": [
    "print('-----Perulangan for dengan menggunakan range statement-----')\n",
    "\n",
    "# range contoh 1\n",
    "for x in range (6):      #1\n",
    "    print(x)\n",
    "# range contoh 2\n",
    "for x in range (2, 6):   #2\n",
    "    print(x)"
   ]
  },
  {
   "cell_type": "markdown",
   "id": "f63d32a7",
   "metadata": {},
   "source": [
    "1. x berada di angka kurang dari 6, dan akan menghasilkan output angka 0-5\n",
    "2. jika x diantara angka 2 dan 6, maka akan menghasilkan output angka 2-5"
   ]
  },
  {
   "cell_type": "markdown",
   "id": "6fee0e52",
   "metadata": {},
   "source": [
    "### NOMOR 2"
   ]
  },
  {
   "cell_type": "code",
   "execution_count": 2,
   "id": "cc3544b2",
   "metadata": {},
   "outputs": [
    {
     "name": "stdout",
     "output_type": "stream",
     "text": [
      "Masukkan Nilai : 4\n",
      "Pilih opsi segitiga/persegi: segitiga\n",
      "****\n",
      "***\n",
      "**\n",
      "*\n"
     ]
    }
   ],
   "source": [
    "nilai = input(\"Masukkan Nilai : \")                           #1\n",
    "\n",
    "if not nilai.isdigit() or int(nilai) <= 0:                  #2\n",
    "    print(\"error\")                                          #3\n",
    "else:\n",
    "    pilihan = input(\"Pilih opsi segitiga/persegi: \")        #4\n",
    "\n",
    "    # validasi input pilihan\n",
    "    if pilihan.lower() == \"segitiga\":                       #5\n",
    "        for i in range(int(nilai), 0, -1):\n",
    "            print(\"*\" * i)\n",
    "    elif pilihan.lower() == \"persegi\":                      #6\n",
    "        for i in range(int(nilai)):\n",
    "            print(\"*\" * int(nilai))\n",
    "    else:\n",
    "        print(\"Error: Pilihan tidak tersedia.\")            #7\n"
   ]
  },
  {
   "cell_type": "markdown",
   "id": "97a4c9e2",
   "metadata": {},
   "source": [
    "1. user diminta menginput nilai\n",
    "2. untuk memvalidasi nilai input kurang dari nol atau tidak\n",
    "3. jika input tidak sesuai dengan program maka akan print error\n",
    "4. jika input sesuai dengan keinginan program, maka user akan diminta pilih bentuk segitiga atau persegi\n",
    "5. jika user meminta bentuk segitiga, maka program akan mengecek validasi dan menghasilkan output '*' dikali dengan hasil fungsi \n",
    "6. tetapi jika user meminta bentuk persegi, maka program akan mengecek dan menghasilkan output '*' dikali nilai input user\n",
    "7. tetapi jika user meminta bentuk selain persegi dan segitiga, maka akan menghasilkan output error"
   ]
  }
 ],
 "metadata": {
  "kernelspec": {
   "display_name": "Python 3 (ipykernel)",
   "language": "python",
   "name": "python3"
  },
  "language_info": {
   "codemirror_mode": {
    "name": "ipython",
    "version": 3
   },
   "file_extension": ".py",
   "mimetype": "text/x-python",
   "name": "python",
   "nbconvert_exporter": "python",
   "pygments_lexer": "ipython3",
   "version": "3.11.0"
  }
 },
 "nbformat": 4,
 "nbformat_minor": 5
}

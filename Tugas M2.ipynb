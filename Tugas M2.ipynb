{
 "cells": [
  {
   "cell_type": "markdown",
   "id": "0cb4618b",
   "metadata": {},
   "source": [
    "## Nomor 1"
   ]
  },
  {
   "cell_type": "code",
   "execution_count": 1,
   "id": "c7c3ce87",
   "metadata": {},
   "outputs": [
    {
     "name": "stdout",
     "output_type": "stream",
     "text": [
      "-----PROGRAM MENGHITUNG FAKTOR DARI SUATU BILANGAN-----\n",
      "Masukkan bilangan untuk dihitung faktornya: 4\n",
      "faktor dari 4 adalah: [1, 2, 4]\n"
     ]
    }
   ],
   "source": [
    "print('-----PROGRAM MENGHITUNG FAKTOR DARI SUATU BILANGAN-----')\n",
    "\n",
    "# a = bilangan\n",
    "# b = pembagi\n",
    "\n",
    "def cari_faktor(a):                                         #1\n",
    "    faktor = []                                             #2\n",
    "    for b in range(1,a+1):                                  #3\n",
    "        if a % b == 0:                                      #4\n",
    "            faktor.append(b)                                #5\n",
    "    return faktor                                           #6\n",
    "\n",
    "a = input('Masukkan bilangan untuk dihitung faktornya: ')   #7\n",
    "a = int(a)                                                  #8\n",
    "faktor = cari_faktor(a)                                     #9\n",
    "print('faktor dari',a,'adalah:',faktor)                     #10"
   ]
  },
  {
   "cell_type": "markdown",
   "id": "aca370ab",
   "metadata": {},
   "source": [
    "1. agar terbentuk suatu fungsi\n",
    "2. kurung siku agar terbentuknya sebuah list kosong\n",
    "3. agar terjadinya perulangan bilangan yang berurutan sesuai dari faktor yang diinginkan\n",
    "4. jika a habis dibagi b maka akan habis\n",
    "5. agar hasil pemfaktoran masuk kedalam list kosong\n",
    "6. membalikan kembali ke fungsi diawal\n",
    "7. input yang dilakukan oleh pengguna\n",
    "8. input berupa integer atau angka\n",
    "9. hasil faktor berasal dari hitungan fungsi diatas\n",
    "10. print yang dihasilkan yaitu terdiri dari string dan list"
   ]
  },
  {
   "cell_type": "markdown",
   "id": "38b40480",
   "metadata": {},
   "source": [
    "## Nomor 2"
   ]
  },
  {
   "cell_type": "code",
   "execution_count": 2,
   "id": "3952a607",
   "metadata": {},
   "outputs": [
    {
     "name": "stdout",
     "output_type": "stream",
     "text": [
      "-----PROGRAM MENGHITUNG LUAS DAN KELILING LINGKARAN-----\n",
      "jari - jari = 7.5\n",
      "luas lingkaran 176.71458676442586 dan keliling lingkaran 47.12388980384689\n"
     ]
    }
   ],
   "source": [
    "print('-----PROGRAM MENGHITUNG LUAS DAN KELILING LINGKARAN-----')\n",
    "import math                                                          #1\n",
    "\n",
    "r = float(input('jari - jari = '))                                   #2\n",
    "\n",
    "luas = math.pi*(r*r)                                                 #3\n",
    "keliling = 2*math.pi*r                                               #4\n",
    "\n",
    "print ('luas lingkaran', luas, 'dan keliling lingkaran', keliling)   #5"
   ]
  },
  {
   "cell_type": "markdown",
   "id": "fcbd18b9",
   "metadata": {},
   "source": [
    "1. import math karena menghitung menggunakan math module\n",
    "2. input jari - jari berupa float agar jika desimal di input tidak akan error\n",
    "3. membuat rumus luas lingkaran dengan rumus math module yaitu math.pi sebagi pengganti 22/7 atau 3,14\n",
    "4. membuat rumus keliling lingkaran dengan rumus math.pi\n",
    "5. print luas dan keliling lingkaran ditambah dengan string"
   ]
  },
  {
   "cell_type": "markdown",
   "id": "0ce5e74b",
   "metadata": {},
   "source": [
    "## Nomor 3"
   ]
  },
  {
   "cell_type": "code",
   "execution_count": 3,
   "id": "e6f5ba94",
   "metadata": {},
   "outputs": [
    {
     "name": "stdout",
     "output_type": "stream",
     "text": [
      "-----PROGRAM TRIGONOMETRI SEDERHANA-----\n",
      "Masukkan sudut : 30\n",
      "sin :  -0.9880316240928618\n",
      "cos :  0.15425144988758405\n",
      "tan :  -6.405331196646276\n"
     ]
    }
   ],
   "source": [
    "print('-----PROGRAM TRIGONOMETRI SEDERHANA-----')\n",
    "a = int(input('Masukkan sudut : '))               #1\n",
    "\n",
    "print('sin : ', math.sin(a))                      #2\n",
    "print('cos : ', math.cos(a))                      #3\n",
    "print('tan : ', math.tan(a))                      #4"
   ]
  },
  {
   "cell_type": "markdown",
   "id": "14acca19",
   "metadata": {},
   "source": [
    "1. input integer\n",
    "2. print sin dengan rumus yang terdapat pada math module, math.sin()\n",
    "3. print cos dengan rumus yang terdapat pada math module, math.cos()\n",
    "4. print tan dengan rumus yang terdapat pada math module, math.tan()\n",
    "\n",
    "pada nomor 3 tidak menggunakan import math kembali karena sudah ada pada nomor 2, dan import math bisa ditulis 1 kali saja untuk semua codingan dalam 1 file"
   ]
  },
  {
   "cell_type": "markdown",
   "id": "70b09594",
   "metadata": {},
   "source": [
    "## Nomor 4"
   ]
  },
  {
   "cell_type": "code",
   "execution_count": 8,
   "id": "58b55d97",
   "metadata": {},
   "outputs": [
    {
     "name": "stdout",
     "output_type": "stream",
     "text": [
      "-----PROGRAM MENGHITUNG LOGARITMA DARI SUATU BILANGAN-----\n",
      "Masukkan bilangan: 0\n",
      "TypeError\n"
     ]
    }
   ],
   "source": [
    "print('-----PROGRAM MENGHITUNG LOGARITMA DARI SUATU BILANGAN-----')\n",
    "\n",
    "try:\n",
    "    a = float(input(\"Masukkan bilangan: \"))         #1\n",
    "except ValueError:                              #2\n",
    "    print(\"TypeError\")                          #3\n",
    "else:\n",
    "    if a <= 0:                                  #4\n",
    "        print(\"TypeError\")                      #5\n",
    "    else:\n",
    "        log = math.log(a)                       #6\n",
    "\n",
    "        print(f\"Log dari {a} = {log}\")        #7"
   ]
  },
  {
   "cell_type": "markdown",
   "id": "85d53013",
   "metadata": {},
   "source": [
    "1. input data\n",
    "2. jika input program error tidak akan stop programnya\n",
    "3. jika error akan menghasilkan output type error\n",
    "4. tahap penyesuaian data, jika a kurang dari 0\n",
    "5. akan menghasilkan output type error\n",
    "6. menghitung logaritma dengan rumus math module\n",
    "7. print hasil hitungan logaritma jika tidak terjadi error pada step awal\n",
    "\n",
    "Tidak menggunakan import math karena sudah ada di nomor 2. Jika input benar maka program akan menghasilkan perhitungan logaritma"
   ]
  },
  {
   "cell_type": "markdown",
   "id": "beac584d",
   "metadata": {},
   "source": [
    "## Nomor 5"
   ]
  },
  {
   "cell_type": "code",
   "execution_count": 4,
   "id": "b29fd243",
   "metadata": {},
   "outputs": [
    {
     "name": "stdout",
     "output_type": "stream",
     "text": [
      "-----PROGRAM MENGHITUNG FAKTORIAL DARI SUATU BILANGAN-----\n",
      "Masukkan bilangan : 6\n",
      "Faktorial dari 6 adalah 6x5x4x3x2x1 = 720\n"
     ]
    }
   ],
   "source": [
    "print('-----PROGRAM MENGHITUNG FAKTORIAL DARI SUATU BILANGAN-----')\n",
    "\n",
    "a = int(input('Masukkan bilangan : '))                   #1\n",
    "\n",
    "faktorial = 1                                            #2\n",
    "faktor = ''                                              #3\n",
    "for b in range (1, a+1):                                 #4\n",
    "    faktorial *= b                                       #5\n",
    "    if b == 1 :                                          #6\n",
    "        faktor += str(b)                                 #7\n",
    "    else :                                               #8\n",
    "        faktor += 'x' + str(b)                           #9\n",
    "\n",
    "reverse = faktor[::-1]                                         #10\n",
    "\n",
    "print('Faktorial dari', a, 'adalah', reverse, '=', faktorial)  #11"
   ]
  },
  {
   "cell_type": "markdown",
   "id": "4b5bd081",
   "metadata": {},
   "source": [
    "1. input integer\n",
    "2. faktorial terkecil 1\n",
    "3. menggunakan string kosong agar dapat diisi pada for loop\n",
    "4. for loop agar terjadinya perulangan bilangan yang berurutan\n",
    "5. perkalian faktorial dengan b\n",
    "6. b sama dengan 1\n",
    "7. faktor dijumlahkan dengan b\n",
    "8. else untuk penentuan dari if diatas\n",
    "9. faktor dijumlahkan dengan string dan b\n",
    "10. hasil faktor di reverse agar output dari angka terbesar ke terkecil\n",
    "11. print terdiri dari string untuk melengkapi kalimat dari bilangan yg diinput, hasil reverse, dan hasil faktorial"
   ]
  }
 ],
 "metadata": {
  "kernelspec": {
   "display_name": "Python 3 (ipykernel)",
   "language": "python",
   "name": "python3"
  },
  "language_info": {
   "codemirror_mode": {
    "name": "ipython",
    "version": 3
   },
   "file_extension": ".py",
   "mimetype": "text/x-python",
   "name": "python",
   "nbconvert_exporter": "python",
   "pygments_lexer": "ipython3",
   "version": "3.11.0"
  }
 },
 "nbformat": 4,
 "nbformat_minor": 5
}
